{
 "cells": [
  {
   "cell_type": "markdown",
   "id": "d99dff82-cd64-4f8b-9ed3-5b6666ace384",
   "metadata": {},
   "source": [
    "# Phoenix Biodiversity Intactness Index\n",
    "\n",
    "### Author: Tom Gibbens-Matsuyama \n",
    "[GitHub Repo](https://github.com/tommats00/phoenix-biodiversity-index)\n",
    "\n",
    "## About\n",
    "\n",
    "### Purpose\n",
    "Maricopa County has had the highest increase in developement since 2001 in the U.S. This rapid developement can have detrimental affects on the nearby ecosystems. The purpose of this repository is to analyze Biodiversity Intactness Index (BII) data from the [Microsoft Planetary Computer STAC catalog](https://planetarycomputer.microsoft.com/dataset/io-biodiversity) to assess the effects of this urbanization. Data will be compared and analyzed to discuss the difference in BII from 2017 to 2020. "
   ]
  }
 ],
 "metadata": {
  "kernelspec": {
   "display_name": "Anaconda 3 (EDS220)",
   "language": "python",
   "name": "eds220-env"
  },
  "language_info": {
   "codemirror_mode": {
    "name": "ipython",
    "version": 3
   },
   "file_extension": ".py",
   "mimetype": "text/x-python",
   "name": "python",
   "nbconvert_exporter": "python",
   "pygments_lexer": "ipython3",
   "version": "3.11.4"
  }
 },
 "nbformat": 4,
 "nbformat_minor": 5
}
